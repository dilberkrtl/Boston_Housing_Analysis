{
 "cells": [
  {
   "cell_type": "code",
   "execution_count": 1,
   "metadata": {},
   "outputs": [],
   "source": [
    "# Importing pandas library to read the dataset\n",
    "import pandas as pd\n",
    "\n",
    "# Reading the Boston housing dataset from a CSV file. The file path is provided.\n",
    "boston = pd.read_csv(r\"C:\\Users\\MSI-NB\\Desktop\\Machine_Learning_Projects\\Boston_Housing_Analysis\\boston.csv\")"
   ]
  },
  {
   "cell_type": "code",
   "execution_count": 2,
   "metadata": {},
   "outputs": [
    {
     "name": "stdout",
     "output_type": "stream",
     "text": [
      "<class 'pandas.core.frame.DataFrame'>\n",
      "RangeIndex: 506 entries, 0 to 505\n",
      "Data columns (total 16 columns):\n",
      " #   Column   Non-Null Count  Dtype  \n",
      "---  ------   --------------  -----  \n",
      " 0   TOWN     506 non-null    object \n",
      " 1   TRACT    506 non-null    int64  \n",
      " 2   LON      506 non-null    float64\n",
      " 3   LAT      506 non-null    float64\n",
      " 4   MEDV     506 non-null    float64\n",
      " 5   CRIM     506 non-null    float64\n",
      " 6   ZN       506 non-null    float64\n",
      " 7   INDUS    506 non-null    float64\n",
      " 8   CHAS     506 non-null    int64  \n",
      " 9   NOX      506 non-null    float64\n",
      " 10  RM       506 non-null    float64\n",
      " 11  AGE      506 non-null    float64\n",
      " 12  DIS      506 non-null    float64\n",
      " 13  RAD      506 non-null    int64  \n",
      " 14  TAX      506 non-null    int64  \n",
      " 15  PTRATIO  506 non-null    float64\n",
      "dtypes: float64(11), int64(4), object(1)\n",
      "memory usage: 63.4+ KB\n"
     ]
    }
   ],
   "source": [
    "# Displaying general information about the dataset (data types, missing values, etc.)\n",
    "boston.info()"
   ]
  },
  {
   "cell_type": "code",
   "execution_count": 3,
   "metadata": {},
   "outputs": [],
   "source": [
    "# Importing mglearn library which provides datasets and tools for visualization\n",
    "import mglearn\n",
    "import mglearn.datasets\n",
    "\n",
    "# Loading the extended Boston dataset using mglearn. This dataset has more features than the standard Boston dataset.\n",
    "x, y = mglearn.datasets.load_extended_boston()"
   ]
  },
  {
   "cell_type": "code",
   "execution_count": 4,
   "metadata": {},
   "outputs": [
    {
     "name": "stdout",
     "output_type": "stream",
     "text": [
      "(506, 104)\n",
      "(506,)\n"
     ]
    }
   ],
   "source": [
    "# Checking the shape of x (features) and y (target variable)\n",
    "# x.shape gives the number of rows and columns in the feature dataset\n",
    "# y.shape gives the number of rows in the target variable\n",
    "print(x.shape)\n",
    "print(y.shape)"
   ]
  },
  {
   "cell_type": "code",
   "execution_count": 5,
   "metadata": {},
   "outputs": [],
   "source": [
    "# Importing train_test_split from sklearn.model_selection to split the data into training and testing sets\n",
    "from sklearn.model_selection import train_test_split\n",
    "\n",
    "# Splitting the dataset into training and testing sets with a fixed random_state for reproducibility\n",
    "x_train, x_test, y_train, y_test = train_test_split(x, y, random_state=0)"
   ]
  },
  {
   "cell_type": "code",
   "execution_count": 6,
   "metadata": {},
   "outputs": [],
   "source": [
    "# Importing LinearRegression from sklearn.linear_model to perform linear regression\n",
    "from sklearn.linear_model import LinearRegression\n",
    "\n",
    "# Fitting the linear regression model to the training data\n",
    "lr = LinearRegression().fit(x_train, y_train)"
   ]
  },
  {
   "cell_type": "code",
   "execution_count": 7,
   "metadata": {},
   "outputs": [
    {
     "name": "stdout",
     "output_type": "stream",
     "text": [
      "0.952051960903273\n",
      "0.6074721959665883\n"
     ]
    }
   ],
   "source": [
    "# Printing the R-squared score on the training data, which indicates how well the model fits the training data\n",
    "print(lr.score(x_train, y_train))\n",
    "\n",
    "# Printing the R-squared score on the test data, which shows the model's performance on unseen data\n",
    "print(lr.score(x_test, y_test))\n",
    "\n",
    "# Looking at the results, we can observe that the training accuracy is much higher than the test accuracy.\n",
    "# This suggests that the model is experiencing **overfitting**, meaning it performs well on the training data but poorly on new, unseen data (test data)."
   ]
  }
 ],
 "metadata": {
  "kernelspec": {
   "display_name": "Python 3",
   "language": "python",
   "name": "python3"
  },
  "language_info": {
   "codemirror_mode": {
    "name": "ipython",
    "version": 3
   },
   "file_extension": ".py",
   "mimetype": "text/x-python",
   "name": "python",
   "nbconvert_exporter": "python",
   "pygments_lexer": "ipython3",
   "version": "3.12.6"
  }
 },
 "nbformat": 4,
 "nbformat_minor": 2
}
